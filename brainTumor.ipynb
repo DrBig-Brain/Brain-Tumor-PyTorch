{
  "cells": [
    {
      "cell_type": "markdown",
      "id": "b7cd8073",
      "metadata": {},
      "source": [
        "# Brain Tumor Classification using Deep Learning\n",
        "## Using VGG16 for MRI Image Classification\n",
        "\n",
        "### 1. Setup and Data Download\n",
        "Setting up Kaggle credentials and downloading the brain tumor MRI dataset"
      ]
    },
    {
      "cell_type": "code",
      "execution_count": 1,
      "id": "ur7rpMIeDK0w",
      "metadata": {
        "colab": {
          "base_uri": "https://localhost:8080/",
          "height": 73
        },
        "id": "ur7rpMIeDK0w",
        "outputId": "bce35259-dd08-4a6e-b2f2-f67fa9f3a4f1"
      },
      "outputs": [
        {
          "data": {
            "text/html": [
              "\n",
              "     <input type=\"file\" id=\"files-f8462d13-3363-41d7-9d6e-0f261ac4ca99\" name=\"files[]\" multiple disabled\n",
              "        style=\"border:none\" />\n",
              "     <output id=\"result-f8462d13-3363-41d7-9d6e-0f261ac4ca99\">\n",
              "      Upload widget is only available when the cell has been executed in the\n",
              "      current browser session. Please rerun this cell to enable.\n",
              "      </output>\n",
              "      <script>// Copyright 2017 Google LLC\n",
              "//\n",
              "// Licensed under the Apache License, Version 2.0 (the \"License\");\n",
              "// you may not use this file except in compliance with the License.\n",
              "// You may obtain a copy of the License at\n",
              "//\n",
              "//      http://www.apache.org/licenses/LICENSE-2.0\n",
              "//\n",
              "// Unless required by applicable law or agreed to in writing, software\n",
              "// distributed under the License is distributed on an \"AS IS\" BASIS,\n",
              "// WITHOUT WARRANTIES OR CONDITIONS OF ANY KIND, either express or implied.\n",
              "// See the License for the specific language governing permissions and\n",
              "// limitations under the License.\n",
              "\n",
              "/**\n",
              " * @fileoverview Helpers for google.colab Python module.\n",
              " */\n",
              "(function(scope) {\n",
              "function span(text, styleAttributes = {}) {\n",
              "  const element = document.createElement('span');\n",
              "  element.textContent = text;\n",
              "  for (const key of Object.keys(styleAttributes)) {\n",
              "    element.style[key] = styleAttributes[key];\n",
              "  }\n",
              "  return element;\n",
              "}\n",
              "\n",
              "// Max number of bytes which will be uploaded at a time.\n",
              "const MAX_PAYLOAD_SIZE = 100 * 1024;\n",
              "\n",
              "function _uploadFiles(inputId, outputId) {\n",
              "  const steps = uploadFilesStep(inputId, outputId);\n",
              "  const outputElement = document.getElementById(outputId);\n",
              "  // Cache steps on the outputElement to make it available for the next call\n",
              "  // to uploadFilesContinue from Python.\n",
              "  outputElement.steps = steps;\n",
              "\n",
              "  return _uploadFilesContinue(outputId);\n",
              "}\n",
              "\n",
              "// This is roughly an async generator (not supported in the browser yet),\n",
              "// where there are multiple asynchronous steps and the Python side is going\n",
              "// to poll for completion of each step.\n",
              "// This uses a Promise to block the python side on completion of each step,\n",
              "// then passes the result of the previous step as the input to the next step.\n",
              "function _uploadFilesContinue(outputId) {\n",
              "  const outputElement = document.getElementById(outputId);\n",
              "  const steps = outputElement.steps;\n",
              "\n",
              "  const next = steps.next(outputElement.lastPromiseValue);\n",
              "  return Promise.resolve(next.value.promise).then((value) => {\n",
              "    // Cache the last promise value to make it available to the next\n",
              "    // step of the generator.\n",
              "    outputElement.lastPromiseValue = value;\n",
              "    return next.value.response;\n",
              "  });\n",
              "}\n",
              "\n",
              "/**\n",
              " * Generator function which is called between each async step of the upload\n",
              " * process.\n",
              " * @param {string} inputId Element ID of the input file picker element.\n",
              " * @param {string} outputId Element ID of the output display.\n",
              " * @return {!Iterable<!Object>} Iterable of next steps.\n",
              " */\n",
              "function* uploadFilesStep(inputId, outputId) {\n",
              "  const inputElement = document.getElementById(inputId);\n",
              "  inputElement.disabled = false;\n",
              "\n",
              "  const outputElement = document.getElementById(outputId);\n",
              "  outputElement.innerHTML = '';\n",
              "\n",
              "  const pickedPromise = new Promise((resolve) => {\n",
              "    inputElement.addEventListener('change', (e) => {\n",
              "      resolve(e.target.files);\n",
              "    });\n",
              "  });\n",
              "\n",
              "  const cancel = document.createElement('button');\n",
              "  inputElement.parentElement.appendChild(cancel);\n",
              "  cancel.textContent = 'Cancel upload';\n",
              "  const cancelPromise = new Promise((resolve) => {\n",
              "    cancel.onclick = () => {\n",
              "      resolve(null);\n",
              "    };\n",
              "  });\n",
              "\n",
              "  // Wait for the user to pick the files.\n",
              "  const files = yield {\n",
              "    promise: Promise.race([pickedPromise, cancelPromise]),\n",
              "    response: {\n",
              "      action: 'starting',\n",
              "    }\n",
              "  };\n",
              "\n",
              "  cancel.remove();\n",
              "\n",
              "  // Disable the input element since further picks are not allowed.\n",
              "  inputElement.disabled = true;\n",
              "\n",
              "  if (!files) {\n",
              "    return {\n",
              "      response: {\n",
              "        action: 'complete',\n",
              "      }\n",
              "    };\n",
              "  }\n",
              "\n",
              "  for (const file of files) {\n",
              "    const li = document.createElement('li');\n",
              "    li.append(span(file.name, {fontWeight: 'bold'}));\n",
              "    li.append(span(\n",
              "        `(${file.type || 'n/a'}) - ${file.size} bytes, ` +\n",
              "        `last modified: ${\n",
              "            file.lastModifiedDate ? file.lastModifiedDate.toLocaleDateString() :\n",
              "                                    'n/a'} - `));\n",
              "    const percent = span('0% done');\n",
              "    li.appendChild(percent);\n",
              "\n",
              "    outputElement.appendChild(li);\n",
              "\n",
              "    const fileDataPromise = new Promise((resolve) => {\n",
              "      const reader = new FileReader();\n",
              "      reader.onload = (e) => {\n",
              "        resolve(e.target.result);\n",
              "      };\n",
              "      reader.readAsArrayBuffer(file);\n",
              "    });\n",
              "    // Wait for the data to be ready.\n",
              "    let fileData = yield {\n",
              "      promise: fileDataPromise,\n",
              "      response: {\n",
              "        action: 'continue',\n",
              "      }\n",
              "    };\n",
              "\n",
              "    // Use a chunked sending to avoid message size limits. See b/62115660.\n",
              "    let position = 0;\n",
              "    do {\n",
              "      const length = Math.min(fileData.byteLength - position, MAX_PAYLOAD_SIZE);\n",
              "      const chunk = new Uint8Array(fileData, position, length);\n",
              "      position += length;\n",
              "\n",
              "      const base64 = btoa(String.fromCharCode.apply(null, chunk));\n",
              "      yield {\n",
              "        response: {\n",
              "          action: 'append',\n",
              "          file: file.name,\n",
              "          data: base64,\n",
              "        },\n",
              "      };\n",
              "\n",
              "      let percentDone = fileData.byteLength === 0 ?\n",
              "          100 :\n",
              "          Math.round((position / fileData.byteLength) * 100);\n",
              "      percent.textContent = `${percentDone}% done`;\n",
              "\n",
              "    } while (position < fileData.byteLength);\n",
              "  }\n",
              "\n",
              "  // All done.\n",
              "  yield {\n",
              "    response: {\n",
              "      action: 'complete',\n",
              "    }\n",
              "  };\n",
              "}\n",
              "\n",
              "scope.google = scope.google || {};\n",
              "scope.google.colab = scope.google.colab || {};\n",
              "scope.google.colab._files = {\n",
              "  _uploadFiles,\n",
              "  _uploadFilesContinue,\n",
              "};\n",
              "})(self);\n",
              "</script> "
            ],
            "text/plain": [
              "<IPython.core.display.HTML object>"
            ]
          },
          "metadata": {},
          "output_type": "display_data"
        },
        {
          "name": "stdout",
          "output_type": "stream",
          "text": [
            "Saving kaggle.json to kaggle.json\n"
          ]
        }
      ],
      "source": [
        "from google.colab import files\n",
        "files.upload()  # upload kaggle.json\n",
        "\n",
        "!mkdir -p ~/.kaggle\n",
        "!cp kaggle.json ~/.kaggle/\n",
        "!chmod 600 ~/.kaggle/kaggle.json"
      ]
    },
    {
      "cell_type": "code",
      "execution_count": 2,
      "id": "xhCq0M9zBZQd",
      "metadata": {
        "colab": {
          "base_uri": "https://localhost:8080/"
        },
        "id": "xhCq0M9zBZQd",
        "outputId": "04cd1a1f-807b-49c0-c228-722e1d60e0f0"
      },
      "outputs": [
        {
          "name": "stdout",
          "output_type": "stream",
          "text": [
            "Dataset URL: https://www.kaggle.com/datasets/masoudnickparvar/brain-tumor-mri-dataset\n",
            "License(s): CC0-1.0\n",
            "Downloading brain-tumor-mri-dataset.zip to /content\n",
            " 87% 129M/149M [00:00<00:00, 1.34GB/s]\n",
            "100% 149M/149M [00:00<00:00, 1.27GB/s]\n"
          ]
        }
      ],
      "source": [
        "!kaggle datasets download -d masoudnickparvar/brain-tumor-mri-dataset"
      ]
    },
    {
      "cell_type": "code",
      "execution_count": null,
      "id": "E72dj15fEETP",
      "metadata": {
        "id": "E72dj15fEETP"
      },
      "outputs": [],
      "source": [
        "!unzip brain-tumor-mri-dataset.zip"
      ]
    },
    {
      "cell_type": "markdown",
      "id": "8f28bf58",
      "metadata": {},
      "source": [
        "### 2. Import Libraries and Setup GPU\n",
        "\n",
        "Importing required PyTorch libraries and setting up CUDA device"
      ]
    },
    {
      "cell_type": "code",
      "execution_count": 4,
      "id": "41e7651a",
      "metadata": {
        "id": "41e7651a"
      },
      "outputs": [],
      "source": [
        "import torch\n",
        "from torch import nn\n",
        "from torch.utils.data import DataLoader\n",
        "from torchvision import datasets, transforms"
      ]
    },
    {
      "cell_type": "code",
      "execution_count": 5,
      "id": "2kHkLu_1EocP",
      "metadata": {
        "id": "2kHkLu_1EocP"
      },
      "outputs": [],
      "source": [
        "device = torch.device(\"cuda\")"
      ]
    },
    {
      "cell_type": "code",
      "execution_count": 6,
      "id": "geenzSO9E7MM",
      "metadata": {
        "colab": {
          "base_uri": "https://localhost:8080/"
        },
        "id": "geenzSO9E7MM",
        "outputId": "3df34192-3974-484a-aa74-d9744e1390a6"
      },
      "outputs": [
        {
          "name": "stdout",
          "output_type": "stream",
          "text": [
            "Tesla T4\n"
          ]
        }
      ],
      "source": [
        "print(torch.cuda.get_device_name(0))"
      ]
    },
    {
      "cell_type": "markdown",
      "id": "ff712260",
      "metadata": {},
      "source": [
        "### 3. Data Preprocessing\n",
        "\n",
        "Defining data transformations for training and testing datasets:\n",
        "- Random horizontal flips\n",
        "- Random rotations \n",
        "- Color jittering\n",
        "- Random resized crops\n",
        "- Normalization"
      ]
    },
    {
      "cell_type": "code",
      "execution_count": 36,
      "id": "cb478475",
      "metadata": {
        "id": "cb478475"
      },
      "outputs": [],
      "source": [
        "train_transform = transforms.Compose([\n",
        "    transforms.RandomHorizontalFlip(p=0.5),       # flip with 50% chance\n",
        "    transforms.RandomRotation(15),                # rotate within ±15 degrees\n",
        "    transforms.ColorJitter(brightness=0.2,\n",
        "                           contrast=0.2,\n",
        "                           saturation=0.2,\n",
        "                           hue=0.1),             # random color changes\n",
        "    transforms.RandomResizedCrop(224, scale=(0.8, 1.0)), # random crop & resize\n",
        "    transforms.ToTensor(),\n",
        "    transforms.Normalize(mean=[0.485, 0.456, 0.406],\n",
        "                     std=[0.229, 0.224, 0.225])\n",
        "])\n",
        "test_transform = transforms.Compose([\n",
        "    transforms.Resize((224,224)),\n",
        "    transforms.ToTensor(),\n",
        "    transforms.Normalize(mean=[0.485,0.456,0.406],\n",
        "                         std=[0.229,0.224,0.225])\n",
        "])"
      ]
    },
    {
      "cell_type": "markdown",
      "id": "719bf127",
      "metadata": {},
      "source": [
        "### 4. Data Loading \n",
        "\n",
        "Creating datasets and dataloaders:\n",
        "- Training dataset from '/content/Training'\n",
        "- Testing dataset from '/content/Testing'\n",
        "- Batch size: 32"
      ]
    },
    {
      "cell_type": "code",
      "execution_count": 37,
      "id": "ea403d24",
      "metadata": {
        "id": "ea403d24"
      },
      "outputs": [],
      "source": [
        "train_dataset = datasets.ImageFolder(root='/content/Training',transform=train_transform)\n",
        "test_dataset = datasets.ImageFolder(root='/content/Testing',transform=test_transform)"
      ]
    },
    {
      "cell_type": "code",
      "execution_count": 38,
      "id": "752dcc14",
      "metadata": {
        "id": "752dcc14"
      },
      "outputs": [],
      "source": [
        "train_loader = DataLoader(dataset=train_dataset,batch_size=32,shuffle=True)\n",
        "test_loader = DataLoader(dataset=test_dataset,batch_size=32)"
      ]
    },
    {
      "cell_type": "markdown",
      "id": "9038756b",
      "metadata": {},
      "source": [
        "### 5. Model Architecture\n",
        "\n",
        "Loading and modifying VGG16 model:\n",
        "- Using pretrained VGG16\n",
        "- Freezing feature extraction layers\n",
        "- Modifying classifier layers for 4 classes"
      ]
    },
    {
      "cell_type": "code",
      "execution_count": 39,
      "id": "bdd06b6a",
      "metadata": {
        "colab": {
          "base_uri": "https://localhost:8080/"
        },
        "id": "bdd06b6a",
        "outputId": "1e91c8df-7c24-4e1b-b149-22d521cd3388"
      },
      "outputs": [
        {
          "name": "stderr",
          "output_type": "stream",
          "text": [
            "/usr/local/lib/python3.12/dist-packages/torchvision/models/_utils.py:208: UserWarning: The parameter 'pretrained' is deprecated since 0.13 and may be removed in the future, please use 'weights' instead.\n",
            "  warnings.warn(\n",
            "/usr/local/lib/python3.12/dist-packages/torchvision/models/_utils.py:223: UserWarning: Arguments other than a weight enum or `None` for 'weights' are deprecated since 0.13 and may be removed in the future. The current behavior is equivalent to passing `weights=VGG16_Weights.IMAGENET1K_V1`. You can also use `weights=VGG16_Weights.DEFAULT` to get the most up-to-date weights.\n",
            "  warnings.warn(msg)\n"
          ]
        }
      ],
      "source": [
        "import torchvision.models as models\n",
        "vgg16 = models.vgg16(pretrained=True)"
      ]
    },
    {
      "cell_type": "code",
      "execution_count": 40,
      "id": "kDS2Vk2ocPAO",
      "metadata": {
        "id": "kDS2Vk2ocPAO"
      },
      "outputs": [],
      "source": [
        "for params in vgg16.features.parameters():\n",
        "  params.requires_grad=False"
      ]
    },
    {
      "cell_type": "code",
      "execution_count": 41,
      "id": "9KF2AV-sdiAD",
      "metadata": {
        "id": "9KF2AV-sdiAD"
      },
      "outputs": [],
      "source": [
        "import torch.nn as nn\n",
        "import torch"
      ]
    },
    {
      "cell_type": "code",
      "execution_count": 42,
      "id": "KhS5rovdiBEw",
      "metadata": {
        "id": "KhS5rovdiBEw"
      },
      "outputs": [],
      "source": [
        "vgg16.classifier=nn.Sequential(\n",
        "    nn.Linear(25088,64),\n",
        "    nn.ReLU(),\n",
        "    nn.Linear(64,128),\n",
        "    nn.ReLU(),\n",
        "    nn.Linear(128,4)\n",
        ")"
      ]
    },
    {
      "cell_type": "markdown",
      "id": "6010e23b",
      "metadata": {},
      "source": [
        "### 6. Training Configuration\n",
        "\n",
        "Setting up training parameters:\n",
        "- Epochs: 10\n",
        "- Learning rate: 0.01\n",
        "- Loss function: CrossEntropyLoss \n",
        "- Optimizer: Adam"
      ]
    },
    {
      "cell_type": "code",
      "execution_count": 43,
      "id": "rXeztxeddf5B",
      "metadata": {
        "id": "rXeztxeddf5B"
      },
      "outputs": [],
      "source": [
        "epochs = 10\n",
        "lr = 0.01"
      ]
    },
    {
      "cell_type": "code",
      "execution_count": 44,
      "id": "05CiNRw_dujM",
      "metadata": {
        "id": "05CiNRw_dujM"
      },
      "outputs": [],
      "source": [
        "criterion = nn.CrossEntropyLoss()\n",
        "optimizer = torch.optim.Adam(vgg16.parameters(),lr=lr)"
      ]
    },
    {
      "cell_type": "code",
      "execution_count": 45,
      "id": "DCEokF9EeUpB",
      "metadata": {
        "colab": {
          "base_uri": "https://localhost:8080/"
        },
        "id": "DCEokF9EeUpB",
        "outputId": "676879eb-39f4-4ec6-dcad-bc2fdb9bdb47"
      },
      "outputs": [
        {
          "data": {
            "text/plain": [
              "VGG(\n",
              "  (features): Sequential(\n",
              "    (0): Conv2d(3, 64, kernel_size=(3, 3), stride=(1, 1), padding=(1, 1))\n",
              "    (1): ReLU(inplace=True)\n",
              "    (2): Conv2d(64, 64, kernel_size=(3, 3), stride=(1, 1), padding=(1, 1))\n",
              "    (3): ReLU(inplace=True)\n",
              "    (4): MaxPool2d(kernel_size=2, stride=2, padding=0, dilation=1, ceil_mode=False)\n",
              "    (5): Conv2d(64, 128, kernel_size=(3, 3), stride=(1, 1), padding=(1, 1))\n",
              "    (6): ReLU(inplace=True)\n",
              "    (7): Conv2d(128, 128, kernel_size=(3, 3), stride=(1, 1), padding=(1, 1))\n",
              "    (8): ReLU(inplace=True)\n",
              "    (9): MaxPool2d(kernel_size=2, stride=2, padding=0, dilation=1, ceil_mode=False)\n",
              "    (10): Conv2d(128, 256, kernel_size=(3, 3), stride=(1, 1), padding=(1, 1))\n",
              "    (11): ReLU(inplace=True)\n",
              "    (12): Conv2d(256, 256, kernel_size=(3, 3), stride=(1, 1), padding=(1, 1))\n",
              "    (13): ReLU(inplace=True)\n",
              "    (14): Conv2d(256, 256, kernel_size=(3, 3), stride=(1, 1), padding=(1, 1))\n",
              "    (15): ReLU(inplace=True)\n",
              "    (16): MaxPool2d(kernel_size=2, stride=2, padding=0, dilation=1, ceil_mode=False)\n",
              "    (17): Conv2d(256, 512, kernel_size=(3, 3), stride=(1, 1), padding=(1, 1))\n",
              "    (18): ReLU(inplace=True)\n",
              "    (19): Conv2d(512, 512, kernel_size=(3, 3), stride=(1, 1), padding=(1, 1))\n",
              "    (20): ReLU(inplace=True)\n",
              "    (21): Conv2d(512, 512, kernel_size=(3, 3), stride=(1, 1), padding=(1, 1))\n",
              "    (22): ReLU(inplace=True)\n",
              "    (23): MaxPool2d(kernel_size=2, stride=2, padding=0, dilation=1, ceil_mode=False)\n",
              "    (24): Conv2d(512, 512, kernel_size=(3, 3), stride=(1, 1), padding=(1, 1))\n",
              "    (25): ReLU(inplace=True)\n",
              "    (26): Conv2d(512, 512, kernel_size=(3, 3), stride=(1, 1), padding=(1, 1))\n",
              "    (27): ReLU(inplace=True)\n",
              "    (28): Conv2d(512, 512, kernel_size=(3, 3), stride=(1, 1), padding=(1, 1))\n",
              "    (29): ReLU(inplace=True)\n",
              "    (30): MaxPool2d(kernel_size=2, stride=2, padding=0, dilation=1, ceil_mode=False)\n",
              "  )\n",
              "  (avgpool): AdaptiveAvgPool2d(output_size=(7, 7))\n",
              "  (classifier): Sequential(\n",
              "    (0): Linear(in_features=25088, out_features=64, bias=True)\n",
              "    (1): ReLU()\n",
              "    (2): Linear(in_features=64, out_features=128, bias=True)\n",
              "    (3): ReLU()\n",
              "    (4): Linear(in_features=128, out_features=4, bias=True)\n",
              "  )\n",
              ")"
            ]
          },
          "execution_count": 45,
          "metadata": {},
          "output_type": "execute_result"
        }
      ],
      "source": [
        "vgg16.to(device)"
      ]
    },
    {
      "cell_type": "markdown",
      "id": "ce639156",
      "metadata": {},
      "source": [
        "### 6. Training Configuration\n",
        "\n",
        "Setting up training parameters:\n",
        "- Epochs: 10\n",
        "- Learning rate: 0.01\n",
        "- Loss function: CrossEntropyLoss \n",
        "- Optimizer: Adam"
      ]
    },
    {
      "cell_type": "code",
      "execution_count": 46,
      "id": "QTVdt1Uwd3xK",
      "metadata": {
        "colab": {
          "base_uri": "https://localhost:8080/"
        },
        "id": "QTVdt1Uwd3xK",
        "outputId": "05446e01-916e-419a-f988-a900d8b81cda"
      },
      "outputs": [
        {
          "name": "stdout",
          "output_type": "stream",
          "text": [
            "epoch:1,loss:0.7373745477649086\n",
            "epoch:2,loss:0.2910242142915393\n",
            "epoch:3,loss:0.21168455158948232\n",
            "epoch:4,loss:0.1838727814546011\n",
            "epoch:5,loss:0.19325490870289297\n",
            "epoch:6,loss:0.17169637601905863\n",
            "epoch:7,loss:0.17295994533891867\n",
            "epoch:8,loss:0.14894290303280733\n",
            "epoch:9,loss:0.1306944888058462\n",
            "epoch:10,loss:0.12287652678137344\n"
          ]
        }
      ],
      "source": [
        "for epoch in range(epochs):\n",
        "  total_loss=0\n",
        "  for batch_features,batch_labels in train_loader:\n",
        "    batch_features = batch_features.to(device)\n",
        "    batch_labels = batch_labels.to(device)\n",
        "    optimizer.zero_grad()\n",
        "    #forward pass\n",
        "    out = vgg16(batch_features)\n",
        "    #loss calculation\n",
        "    loss = criterion(out,batch_labels)\n",
        "    #backward pass\n",
        "    loss.backward()\n",
        "    #weight updates\n",
        "    optimizer.step()\n",
        "    total_loss+=loss.item()\n",
        "  print(f\"epoch:{epoch+1},loss:{total_loss/len(train_loader)}\")"
      ]
    },
    {
      "cell_type": "markdown",
      "id": "a8b76ac1",
      "metadata": {},
      "source": [
        "### 8. Evaluation\n",
        "\n",
        "Model evaluation:\n",
        "- Computing validation loss\n",
        "- Computing accuracy metrics\n",
        "- Testing on validation set"
      ]
    },
    {
      "cell_type": "code",
      "execution_count": 47,
      "id": "3v_WjBo3jz7l",
      "metadata": {
        "id": "3v_WjBo3jz7l"
      },
      "outputs": [],
      "source": [
        "def evaluate(model, test_loader, criterion, device):\n",
        "    model.eval()  # evaluation mode\n",
        "    total_loss = 0.0\n",
        "    correct = 0\n",
        "    total = 0\n",
        "\n",
        "    with torch.no_grad():  # disable gradients\n",
        "        for batch_features, batch_labels in test_loader:\n",
        "            batch_features = batch_features.to(device)\n",
        "            batch_labels = batch_labels.to(device)\n",
        "\n",
        "            outputs = model(batch_features)          # forward pass\n",
        "            loss = criterion(outputs, batch_labels)  # compute loss\n",
        "            total_loss += loss.item()\n",
        "\n",
        "            # Predictions\n",
        "            _, predicted = torch.max(outputs, 1)     # get class with max score\n",
        "            correct += (predicted == batch_labels).sum().item()\n",
        "            total += batch_labels.size(0)\n",
        "\n",
        "    avg_loss = total_loss / len(test_loader)\n",
        "    accuracy = 100 * correct / total\n",
        "    return avg_loss, accuracy"
      ]
    },
    {
      "cell_type": "code",
      "execution_count": 48,
      "id": "x6xgZcXNj0m8",
      "metadata": {
        "colab": {
          "base_uri": "https://localhost:8080/"
        },
        "id": "x6xgZcXNj0m8",
        "outputId": "230186fe-947f-4478-8bde-a7e1cbd0de7b"
      },
      "outputs": [
        {
          "name": "stdout",
          "output_type": "stream",
          "text": [
            "Validation Loss: 0.2021, Accuracy: 94.20%\n"
          ]
        }
      ],
      "source": [
        "val_loss, val_acc = evaluate(vgg16, test_loader, criterion, device)\n",
        "print(f\"Validation Loss: {val_loss:.4f}, Accuracy: {val_acc:.2f}%\")"
      ]
    },
    {
      "cell_type": "markdown",
      "id": "bea1fcab",
      "metadata": {},
      "source": [
        "### 9. Save Model\n",
        "\n",
        "Saving the trained model weights"
      ]
    },
    {
      "cell_type": "code",
      "execution_count": 49,
      "id": "83Gi0wtFkto9",
      "metadata": {
        "id": "83Gi0wtFkto9"
      },
      "outputs": [],
      "source": [
        "torch.save(vgg16.state_dict(),\"model.pth\")"
      ]
    }
  ],
  "metadata": {
    "accelerator": "GPU",
    "colab": {
      "gpuType": "T4",
      "provenance": []
    },
    "kernelspec": {
      "display_name": ".venv (3.12.6)",
      "language": "python",
      "name": "python3"
    },
    "language_info": {
      "codemirror_mode": {
        "name": "ipython",
        "version": 3
      },
      "file_extension": ".py",
      "mimetype": "text/x-python",
      "name": "python",
      "nbconvert_exporter": "python",
      "pygments_lexer": "ipython3",
      "version": "3.12.6"
    }
  },
  "nbformat": 4,
  "nbformat_minor": 5
}
